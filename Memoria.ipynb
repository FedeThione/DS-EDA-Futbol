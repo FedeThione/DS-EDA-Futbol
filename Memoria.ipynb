{
 "cells": [
  {
   "cell_type": "markdown",
   "metadata": {},
   "source": [
    "# Objetivo del proyecto:\n",
    "\n",
    "En este EDA lo que se busca es mediante el análisis de los DataSets detallados a continuación, concluir si existe una significancia en la relación entre el desempeño deportivos de los clubes de las mejores cinco ligas de Europa y la valoración económica que tienen los jugadores y clubes que participaron de la temporada 2020-2021.\n",
    "\n",
    "# Librerias que se importan:\n",
    "\n",
    "Numpy - Pandas - Matplotlib - Seaborn - Scipy.stats - Scikit-learn\n",
    "\n",
    "# Consulta bibliográfica:\n",
    "\n",
    "    - [CSV de las Estadisticas Deportivas de los Clubes] (https://www.kaggle.com/datasets/varpit94/football-teams-rankings-stats?select=Football+teams.csv)\n",
    "\n",
    "    - [CSV de la Valuacion Economica de los Clubes] (https://www.kaggle.com/datasets/sanjeetsinghnaik/football-club-market-value-2021)\n",
    "\n",
    "    [Fuente: KAGGLE] (https://www.kaggle.com/datasets)\n",
    "\n",
    "# Estructura y detalle:\n",
    "\n",
    "Este proyecto fue esquematizado de la siguiente manera:\n",
    "\n",
    "- 1. TÍTULO\n",
    "- 2. PRIMERA HIPOTESIS  \n",
    "- 3. IMPORTACION DE DATOS  \n",
    "\n",
    "    - 3.1. Carga del DataSet \"edc\"  \n",
    "    - 3.2. Carga del DataSet \"vec\"  \n",
    "\n",
    "- 4. EXPLORACIÓN INICIAL  \n",
    "\n",
    "    -  4.1. Información general del DataSet \"edc\"\n",
    "    -  4.2. Información general del DataSet \"vec\"\n",
    "\n",
    "- 5. LIMPIEZA DE LOS DATASETS \n",
    "\n",
    "- 6. ANALISIS DE DATOS \n",
    "    \n",
    "    - 6.1 Univariante\n",
    "    - 6.2 Bivariante\n",
    "    - 6.3 Multivariante\n",
    "\n",
    "Mediante una primera aproximación (con herramientas como .shape, head(), tail(), info(), dtypes, duplicated(), describe()) se fue realizando una vista panorámica de la composición de los DataSet, para conocer el tipo de datos, la dimensión del DataFrame, algunos parámetros estadísticos, entre otras cosas.\n",
    "\n",
    "En la siguiente etapa, habiendo corroborado esta primera información, se procedió a detectar la presencia de valores nulos, duplicados y outliers en el DataFrame, y en base a eso modificar o eliminar variables y observaciones si fuese necesario.\n",
    "\n",
    "Por último, se realiza un analisis (univariante, bivariante y multivariante) de los datos con mayor detenimiento para poder, mediante visualizaciones y pruebas, contrastar las hipótesis planteadas.\n"
   ]
  }
 ],
 "metadata": {
  "language_info": {
   "name": "python"
  }
 },
 "nbformat": 4,
 "nbformat_minor": 2
}
